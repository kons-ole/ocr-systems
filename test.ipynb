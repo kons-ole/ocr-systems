{
 "cells": [
  {
   "cell_type": "code",
   "execution_count": 2,
   "metadata": {},
   "outputs": [],
   "source": [
    "from dedoc import DedocManager\n",
    "from dedoc.attachments_extractors import DocxAttachmentsExtractor\n",
    "from dedoc.converters import DocxConverter\n",
    "from dedoc.metadata_extractors import DocxMetadataExtractor\n",
    "from dedoc.readers import DocxReader\n",
    "from dedoc.structure_constructors import TreeConstructor\n",
    "from dedoc.structure_extractors import DefaultStructureExtractor\n",
    "from dedoc.data_structures import DocumentContent"
   ]
  },
  {
   "cell_type": "code",
   "execution_count": 19,
   "metadata": {},
   "outputs": [
    {
     "name": "stdout",
     "output_type": "stream",
     "text": [
      "2024-09-06 18:47:54,727 - /root/ocr-systems/venv/lib/python3.9/site-packages/dedoc/dedoc_manager.py - INFO - Get file 1.png with parameters {'document_type': '', 'structure_type': 'tree', 'return_format': 'json', 'with_attachments': 'false', 'need_content_analysis': 'false', 'recursion_deep_attachments': '10', 'return_base64': 'false', 'need_pdf_table_analysis': 'true', 'table_type': '', 'orient_analysis_cells': 'false', 'orient_cell_angle': '90', 'pdf_with_text_layer': 'auto_tabby', 'fast_textual_layer_detection': 'false', 'language': 'rus+eng', 'pages': ':', 'is_one_column_document': 'auto', 'document_orientation': 'auto', 'need_header_footer_analysis': 'false', 'need_binarization': 'false', 'delimiter': None, 'encoding': None, 'html_fields': '', 'handle_invisible_table': 'false', 'attachments_dir': 'test_files'}\n",
      "2024-09-06 18:47:54,730 - /root/ocr-systems/venv/lib/python3.9/site-packages/dedoc/dedoc_manager.py - INFO - Start handle test_files/1.png\n",
      "2024-09-06 18:47:59,281 - /root/ocr-systems/venv/lib/python3.9/site-packages/dedoc/readers/pdf_reader/pdf_image_reader/pdf_image_reader.py - INFO - Predicted orientation angle = 0, columns = 1\n",
      "2024-09-06 18:47:59,287 - /root/ocr-systems/venv/lib/python3.9/site-packages/dedoc/readers/pdf_reader/pdf_image_reader/pdf_image_reader.py - INFO - Final orientation angle = 0, is_one_column_document = True\n",
      "2024-09-06 18:48:06,130 - /root/ocr-systems/venv/lib/python3.9/site-packages/pypdf/_utils.py - WARNING - invalid pdf header: b'\\x89PNG\\r'\n",
      "2024-09-06 18:48:06,228 - /root/ocr-systems/venv/lib/python3.9/site-packages/pypdf/_utils.py - WARNING - EOF marker not found\n",
      "2024-09-06 18:48:06,228 - /root/ocr-systems/venv/lib/python3.9/site-packages/pypdf/_utils.py - WARNING - EOF marker not found\n",
      "2024-09-06 18:48:06,229 - /root/ocr-systems/venv/lib/python3.9/site-packages/pypdf/_utils.py - WARNING - EOF marker not found\n",
      "2024-09-06 18:48:06,294 - /root/ocr-systems/venv/lib/python3.9/site-packages/dedoc/dedoc_manager.py - INFO - Extract content from file 1.png\n",
      "2024-09-06 18:48:06,295 - /root/ocr-systems/venv/lib/python3.9/site-packages/dedoc/dedoc_manager.py - INFO - Extract structure from file 1.png\n",
      "2024-09-06 18:48:06,300 - /root/ocr-systems/venv/lib/python3.9/site-packages/dedoc/dedoc_manager.py - INFO - Get structured document 1.png\n",
      "2024-09-06 18:48:06,301 - /root/ocr-systems/venv/lib/python3.9/site-packages/dedoc/dedoc_manager.py - INFO - Get attachments 1.png\n",
      "2024-09-06 18:48:06,301 - /root/ocr-systems/venv/lib/python3.9/site-packages/dedoc/dedoc_manager.py - INFO - Finish handle 1.png\n"
     ]
    }
   ],
   "source": [
    "file_path = 'test_files/1.png'\n",
    "manager = DedocManager()\n",
    "recognized_data = manager.parse(file_path=file_path)\n"
   ]
  },
  {
   "cell_type": "code",
   "execution_count": 6,
   "metadata": {},
   "outputs": [
    {
     "name": "stdout",
     "output_type": "stream",
     "text": [
      "2024-09-12 10:27:20,177 - /root/ocr-systems/venv/lib/python3.9/site-packages/dedoc/readers/pdf_reader/pdf_image_reader/columns_orientation_classifier/columns_orientation_classifier.py - WARNING - Classifier is set to device cpu\n"
     ]
    },
    {
     "data": {
      "text/plain": [
       "True"
      ]
     },
     "execution_count": 6,
     "metadata": {},
     "output_type": "execute_result"
    }
   ],
   "source": [
    "from dedoc.readers import PdfImageReader\n",
    "reader_image = PdfImageReader()\n",
    "\n",
    "file_path=\"/root/ocr-systems/test_files/1.pdf\"\n",
    "reader_image.can_read(file_path=file_path)"
   ]
  },
  {
   "cell_type": "code",
   "execution_count": 7,
   "metadata": {},
   "outputs": [
    {
     "name": "stdout",
     "output_type": "stream",
     "text": [
      "2024-09-12 10:27:24,018 - /root/ocr-systems/venv/lib/python3.9/site-packages/dedoc/readers/pdf_reader/pdf_base_reader.py - INFO - Get page from 1 to 1 of 1 file 1.pdf\n",
      "2024-09-12 10:27:24,210 - /root/ocr-systems/venv/lib/python3.9/site-packages/dedoc/readers/pdf_reader/pdf_image_reader/pdf_image_reader.py - INFO - into _process_one_page\n",
      "2024-09-12 10:27:25,139 - /root/ocr-systems/venv/lib/python3.9/site-packages/dedoc/readers/pdf_reader/pdf_image_reader/columns_orientation_classifier/columns_orientation_classifier.py - INFO - Weights were loaded from /root/.cache/dedoc/resources/scan_orientation_efficient_net_b0.pth\n",
      "2024-09-12 10:27:39,431 - /root/ocr-systems/venv/lib/python3.9/site-packages/dedoc/readers/pdf_reader/pdf_image_reader/pdf_image_reader.py - INFO - Predicted orientation angle = 0, columns = 1\n",
      "2024-09-12 10:27:39,478 - /root/ocr-systems/venv/lib/python3.9/site-packages/dedoc/readers/pdf_reader/pdf_image_reader/pdf_image_reader.py - INFO - Final orientation angle = 0, is_one_column_document = True\n",
      "2024-09-12 10:27:44,257 - /root/ocr-systems/venv/lib/python3.9/site-packages/dedoc/readers/pdf_reader/pdf_image_reader/pdf_image_reader.py - INFO - process table recognision\n",
      "2024-09-12 10:27:56,513 - /root/ocr-systems/venv/lib/python3.9/site-packages/dedoc/readers/pdf_reader/pdf_image_reader/pdf_image_reader.py - INFO - таблицы [<dedoc.readers.pdf_reader.data_classes.tables.scantable.ScanTable object at 0xffff40873280>]\n"
     ]
    },
    {
     "name": "stderr",
     "output_type": "stream",
     "text": [
      "/root/ocr-systems/venv/lib/python3.9/site-packages/numpy/core/fromnumeric.py:3504: RuntimeWarning: Mean of empty slice.\n",
      "  return _methods._mean(a, axis=axis, dtype=dtype,\n",
      "/root/ocr-systems/venv/lib/python3.9/site-packages/numpy/core/_methods.py:129: RuntimeWarning: invalid value encountered in scalar divide\n",
      "  ret = ret.dtype.type(ret / rcount)\n"
     ]
    },
    {
     "name": "stdout",
     "output_type": "stream",
     "text": [
      "2024-09-12 10:27:57,224 - /root/ocr-systems/venv/lib/python3.9/site-packages/dedoc/readers/pdf_reader/pdf_base_reader.py - INFO - данные из таблиц [<dedoc.data_structures.table.Table object at 0xffff4087de80>]\n"
     ]
    },
    {
     "name": "stderr",
     "output_type": "stream",
     "text": [
      "/root/ocr-systems/venv/lib/python3.9/site-packages/dedoc/structure_extractors/feature_extractors/abstract_extractor.py:332: FutureWarning: Downcasting object dtype arrays on .fillna, .ffill, .bfill is deprecated and will change in a future version. Call result.infer_objects(copy=False) instead. To opt-in to the future behavior, set `pd.set_option('future.no_silent_downcasting', True)`\n",
      "  feature_column = feature_column.fillna(feature_column.min() - 1)\n"
     ]
    }
   ],
   "source": [
    "data_img = reader_image.read(file_path=file_path, parameters=dict(need_pdf_table_analysis=True))"
   ]
  },
  {
   "cell_type": "code",
   "execution_count": 5,
   "metadata": {},
   "outputs": [
    {
     "data": {
      "text/plain": [
       "' \\n\\n  \\n\\n  \\n\\n \\n\\n  \\n\\n   \\n\\n   \\n\\n \\n\\n    \\n\\n   \\n\\n   \\n\\n   \\n\\n \\n\\n   \\n\\n      \\n\\n \\n\\n \\n\\n \\n\\n \\n\\n \\n\\n \\n\\n \\n\\n \\n\\n \\n\\n \\n\\n \\n\\n \\n\\n \\n\\n \\n\\n \\n\\n \\n\\n \\n\\n \\n\\n \\n\\nета at Beenie cuz) а т\\n\\nи\" Исправлелие № = от = (ta)\\n\\nтату Продавец: ООО \"ЭВЕРЕСТ\" (2)\\n\\nре ‘Адрес: 420083, Респ Татарстан, г Казань, ул Беловежская, дом 15]) (2a)\\n\\n1-cverparrypa uf ИННИКПП продавца: 1660360749/166001001 (26\\n\\neee cay | Грузоотправитель и его адрес: OH Ke (3)\\n\\n2” передаточный | Грузополучатель и ero адрес: МАДОУ \"ДЕТСКИЙ САД № 160\"; 420049, Респ Татарстан, г Казань, ул Качалова, дом 95 (4)\\n\\nRoamer) | К платежно - расчетному документу   (5)\\n\\nДокумент об отгрузке № nin 1 № от 22.08.2023 (5a)\\n\\nПокупатель: \\'МАДОУ \"ДЕТСКИЙ САД № 160\" (6)\\n\\nАдрес: 420049, Респ Татарстан, г Казань, ул Качалова, дом 95 (ба)\\n\\nы ИННИКПП покупателя: 1659027197/165901001 )\\n\\nВалюта: наименование, код: Российский рубль, 643 {7)\\n\\nИдентификатор государственного контракта, договора (соглашения) (при 110 (8)\\n\\nегистрационный\\n\\n   \\n\\n  \\n\\n   \\n\\n \\n\\nКод товара/\\n\\nработ, услуг\\n\\n  \\n\\n     \\n\\n     \\n\\n    \\n\\n  \\n\\n  \\n\\n‘оказанных услуг), имущественного товара заединицу| имущественных\\n\\nправа измерения | прав без налога -\\n\\nСтоимость |номер декларации\\n\\nНаименование товара товаров (работ, товаров (работ, на товары или\\n\\n(описание выполненных работ, Код вида услуг), регистрационный\\n\\nномер партии\\n\\n \\n\\n   \\n\\n \\n\\n  \\n\\n \\n\\n  \\n\\n. еживаемост\\n\\n1a 16 11\\n\\n|Песко-соляная смесь 50Kr х 737,00] без акциза .\\n\\n \\n\\n \\n\\n \\n\\n \\n\\nВсего к оплате: 737,00]\\n\\n \\n\\nДокумент\\n\\nсоставлен\\n\\nна\\n\\n1 листе\\n\\nОснование\\n\\nДанные о транспортировке и\\n\\n \\n\\n  \\n\\n  \\n\\n  \\n\\nРуководитель организации Главный бухгалтер\\n\\nили иное уполномоченное лицо 4 или иное уполномоченное лицо\\n\\n \\n\\n \\n\\nИндивидуальный предприниматель.\\n\\nили иное уполномоченное лицо\\n\\n \\n\\n    \\n\\n \\n\\nподпись) и\\n\\n \\n\\n \\n\\n(подпись) (uo) {реквизиты овидетельствв о государственной регистрации индивидуального предпринимателя)\\n\\n \\n\\nпередачи (сдачи) / получения\\n\\n \\n\\n(Gorosop, довереняость и др)\\n\\n \\n\\n   \\n\\n \\n\\n  \\n\\n \\n\\n \\n\\n(8)\\n\\n(9)\\n\\n\"Пранслортная накладная, поручен 1итору. экследиторрхая / складская раслиска и др /масса нетто/ бруго груза, если не приведены ссылки на транспортные документы, содержащие эти\\n\\nTos: ) передал / услуги, результаты работ, права Товар (груз) И wie результаты, , права и\\n\\n(должность) . (Подпись) (uo) олжность   (подпись) (uo)\\n\\nДата отгрузки, передачи \"22\" августа 2025 г. «iy Дата пфручения ie HE (toy\\n\\nИные сведения об отгрузке, Иные сведения о получении,\\n\\n(12)\\n\\n \\n\\n  \\n\\n   \\n\\n    \\n\\nre ere tuner va неотьвыточые пригочения прим доорментыитт\\n\\nность Ви aa HOU\\n\\nс подпись)\\n\\n6 Экономического cyObekTa   составителя документа\\n\\nMANO \"ДЕТСКИЙ САД № 160\", ИННЖПП 1659027197/165901001\\n\\n \\n\\n \\n\\nИИ\\n\\nTL. | Е\\n\\nлись) о)\\n\\n  составителя докумёнта (в $ a комиссионера /\\n\\nКПП 1660360749/166001001 (14)\\n\\n5\\n\\n    \\n\\n  \\n\\n(no)\\n\\n \\n\\n \\n\\n \\n\\n   \\n\\n‘печати в МП. может быть указан ИНН/КПП) 2 a „может быть указан ИНН/КПП)\\n\\n \\n\\n \\n\\n \\n\\n(17)\\n\\nQ RAB\\n\\n(19)\\n\\nСведения о документе и электронных\\n\\nподписях\\n\\nСведения о подписях:\\n\\nоГаНизАциЯ оГАНИЗАЦИЯ\\n\\nМУНИЦИПАЛЬНОЕ АВТОНОМНОЕ ПИРУ МУНИЦИПАЛЬНОЕ БЮДЖЕТНОЕ ААВ АО\\n\\nДОШКОЛЬНОЕ ОБРАЗОВАТЕЛЬНОЕ УЧРЕЖДЕНИЕ \"ДЕПАРТАМЕНТ ПО\\n\\nУЧРЕЖДЕНИЕ \"ДЕТСКИЙ САД № 160 СОДЕРЖАНИЮ И ОБСЛУЖИВАНИЮ\\n\\nВЛАДЕЛЕЦ СЕРТИФИКАТА СОТРУДНИК\\n\\nШАРАФЕТДИНОВА САРИЯ ХАРИСОВНА Файзуллина Лейсан Альфридовна\\n\\n48FD94681E44AD852F1B4CAB53173F1C   23.08.2023 14:27:58 МСК 23.08.2023 16:26:52 МСК\\n\\nПОДПИСЬ ВЕРНА СОГЛАСОВАН\\n\\nОРГАНИЗАЦИЯ\\n\\nУправление образования СОГЛАСОВАНО\\n\\nИсполнительного комитета\\n\\nмуниципального образования города\\n\\nСОТРУДНИК\\n\\nГиззатуллина Элина Камилевна\\n\\nСОГЛАСОВАН\\n\\n24.08.2023 13:31:12 МСК\\n\\nСОГЛАСОВАН\\n\\n \\n\\nЭлектронный документ передан через оператора ЭДО ЗАО \"ТаксНет\" Ср, 23 авг 2023 14:27:58 МСК\\n\\nИдентификатор документа Od1d1c75-d4b1-4cdd-b050-f3facfl2bd40 Страница 2 из 2\\n'"
      ]
     },
     "execution_count": 5,
     "metadata": {},
     "output_type": "execute_result"
    }
   ],
   "source": [
    "data_img.get_text()"
   ]
  },
  {
   "cell_type": "code",
   "execution_count": 17,
   "metadata": {},
   "outputs": [],
   "source": [
    "table = data_img.tables[0].to_api_schema()"
   ]
  },
  {
   "cell_type": "code",
   "execution_count": 64,
   "metadata": {},
   "outputs": [
    {
     "name": "stdout",
     "output_type": "stream",
     "text": [
      "lines=[LineWithMeta(text='Наименование товари (описание', annotations=[Annotation(start=0, end=12, name='bounding box', value='{\"x_top_left\": 0.09320222317229586, \"y_top_left\": 0.45251058681185724, \"width\": 0.13168020521590423, \"height\": 0.011494252873563218, \"page_width\": 2339, \"page_height\": 1653}'), Annotation(start=12, end=19, name='bounding box', value='{\"x_top_left\": 0.15519452757588714, \"y_top_left\": 0.4482758620689655, \"width\": 0.02522445489525438, \"height\": 0.019358741681790685, \"page_width\": 2339, \"page_height\": 1653}'), Annotation(start=19, end=29, name='bounding box', value='{\"x_top_left\": 0.18469431380932022, \"y_top_left\": 0.45251058681185724, \"width\": 0.040188114578879865, \"height\": 0.011494252873563218, \"page_width\": 2339, \"page_height\": 1653}'), Annotation(start=0, end=12, name='confidence', value='0.96'), Annotation(start=13, end=19, name='confidence', value='0.93'), Annotation(start=20, end=29, name='confidence', value='0.95')]), LineWithMeta(text='выполненных работ ожазанных услу!),', annotations=[Annotation(start=0, end=11, name='bounding box', value='{\"x_top_left\": 0.07994869602394186, \"y_top_left\": 0.4633998790078645, \"width\": 0.055151774262505344, \"height\": 0.017543859649122806, \"page_width\": 2339, \"page_height\": 1653}'), Annotation(start=11, end=17, name='bounding box', value='{\"x_top_left\": 0.13852073535699017, \"y_top_left\": 0.4633998790078645, \"width\": 0.023086789226165028, \"height\": 0.017543859649122806, \"page_width\": 2339, \"page_height\": 1653}'), Annotation(start=17, end=27, name='bounding box', value='{\"x_top_left\": 0.16545532278751604, \"y_top_left\": 0.4633998790078645, \"width\": 0.04061564771269773, \"height\": 0.017543859649122806, \"page_width\": 2339, \"page_height\": 1653}'), Annotation(start=27, end=35, name='bounding box', value='{\"x_top_left\": 0.2099187687045746, \"y_top_left\": 0.4633998790078645, \"width\": 0.026079521162890123, \"height\": 0.017543859649122806, \"page_width\": 2339, \"page_height\": 1653}'), Annotation(start=0, end=11, name='confidence', value='0.74'), Annotation(start=12, end=17, name='confidence', value='0.93'), Annotation(start=18, end=27, name='confidence', value='0.89'), Annotation(start=28, end=35, name='confidence', value='0.72')]), LineWithMeta(text='имущественного права:', annotations=[Annotation(start=0, end=14, name='bounding box', value='{\"x_top_left\": 0.11415134672937152, \"y_top_left\": 0.4821536600120992, \"width\": 0.09234715690466011, \"height\": 0.0102843315184513, \"page_width\": 2339, \"page_height\": 1653}'), Annotation(start=14, end=21, name='bounding box', value='{\"x_top_left\": 0.18426678067550234, \"y_top_left\": 0.4767090139140956, \"width\": 0.02394185549380077, \"height\": 0.019358741681790685, \"page_width\": 2339, \"page_height\": 1653}'), Annotation(start=0, end=14, name='confidence', value='0.0'), Annotation(start=15, end=21, name='confidence', value='0.56')])] rowspan=3 colspan=1 invisible=False\n",
      "lines=[LineWithMeta(text='Наименование товари (описание', annotations=[Annotation(start=0, end=12, name='bounding box', value='{\"x_top_left\": 0.09320222317229586, \"y_top_left\": 0.45251058681185724, \"width\": 0.13168020521590423, \"height\": 0.011494252873563218, \"page_width\": 2339, \"page_height\": 1653}'), Annotation(start=12, end=19, name='bounding box', value='{\"x_top_left\": 0.15519452757588714, \"y_top_left\": 0.4482758620689655, \"width\": 0.02522445489525438, \"height\": 0.019358741681790685, \"page_width\": 2339, \"page_height\": 1653}'), Annotation(start=19, end=29, name='bounding box', value='{\"x_top_left\": 0.18469431380932022, \"y_top_left\": 0.45251058681185724, \"width\": 0.040188114578879865, \"height\": 0.011494252873563218, \"page_width\": 2339, \"page_height\": 1653}'), Annotation(start=0, end=12, name='confidence', value='0.96'), Annotation(start=13, end=19, name='confidence', value='0.93'), Annotation(start=20, end=29, name='confidence', value='0.95')]), LineWithMeta(text='выполненных работ ожазанных услу!),', annotations=[Annotation(start=0, end=11, name='bounding box', value='{\"x_top_left\": 0.07994869602394186, \"y_top_left\": 0.4633998790078645, \"width\": 0.055151774262505344, \"height\": 0.017543859649122806, \"page_width\": 2339, \"page_height\": 1653}'), Annotation(start=11, end=17, name='bounding box', value='{\"x_top_left\": 0.13852073535699017, \"y_top_left\": 0.4633998790078645, \"width\": 0.023086789226165028, \"height\": 0.017543859649122806, \"page_width\": 2339, \"page_height\": 1653}'), Annotation(start=17, end=27, name='bounding box', value='{\"x_top_left\": 0.16545532278751604, \"y_top_left\": 0.4633998790078645, \"width\": 0.04061564771269773, \"height\": 0.017543859649122806, \"page_width\": 2339, \"page_height\": 1653}'), Annotation(start=27, end=35, name='bounding box', value='{\"x_top_left\": 0.2099187687045746, \"y_top_left\": 0.4633998790078645, \"width\": 0.026079521162890123, \"height\": 0.017543859649122806, \"page_width\": 2339, \"page_height\": 1653}'), Annotation(start=0, end=11, name='confidence', value='0.74'), Annotation(start=12, end=17, name='confidence', value='0.93'), Annotation(start=18, end=27, name='confidence', value='0.89'), Annotation(start=28, end=35, name='confidence', value='0.72')]), LineWithMeta(text='имущественного права:', annotations=[Annotation(start=0, end=14, name='bounding box', value='{\"x_top_left\": 0.11415134672937152, \"y_top_left\": 0.4821536600120992, \"width\": 0.09234715690466011, \"height\": 0.0102843315184513, \"page_width\": 2339, \"page_height\": 1653}'), Annotation(start=14, end=21, name='bounding box', value='{\"x_top_left\": 0.18426678067550234, \"y_top_left\": 0.4767090139140956, \"width\": 0.02394185549380077, \"height\": 0.019358741681790685, \"page_width\": 2339, \"page_height\": 1653}'), Annotation(start=0, end=14, name='confidence', value='0.0'), Annotation(start=15, end=21, name='confidence', value='0.56')])] rowspan=1 colspan=1 invisible=True\n",
      "lines=[LineWithMeta(text='Наименование товари (описание', annotations=[Annotation(start=0, end=12, name='bounding box', value='{\"x_top_left\": 0.09320222317229586, \"y_top_left\": 0.45251058681185724, \"width\": 0.13168020521590423, \"height\": 0.011494252873563218, \"page_width\": 2339, \"page_height\": 1653}'), Annotation(start=12, end=19, name='bounding box', value='{\"x_top_left\": 0.15519452757588714, \"y_top_left\": 0.4482758620689655, \"width\": 0.02522445489525438, \"height\": 0.019358741681790685, \"page_width\": 2339, \"page_height\": 1653}'), Annotation(start=19, end=29, name='bounding box', value='{\"x_top_left\": 0.18469431380932022, \"y_top_left\": 0.45251058681185724, \"width\": 0.040188114578879865, \"height\": 0.011494252873563218, \"page_width\": 2339, \"page_height\": 1653}'), Annotation(start=0, end=12, name='confidence', value='0.96'), Annotation(start=13, end=19, name='confidence', value='0.93'), Annotation(start=20, end=29, name='confidence', value='0.95')]), LineWithMeta(text='выполненных работ ожазанных услу!),', annotations=[Annotation(start=0, end=11, name='bounding box', value='{\"x_top_left\": 0.07994869602394186, \"y_top_left\": 0.4633998790078645, \"width\": 0.055151774262505344, \"height\": 0.017543859649122806, \"page_width\": 2339, \"page_height\": 1653}'), Annotation(start=11, end=17, name='bounding box', value='{\"x_top_left\": 0.13852073535699017, \"y_top_left\": 0.4633998790078645, \"width\": 0.023086789226165028, \"height\": 0.017543859649122806, \"page_width\": 2339, \"page_height\": 1653}'), Annotation(start=17, end=27, name='bounding box', value='{\"x_top_left\": 0.16545532278751604, \"y_top_left\": 0.4633998790078645, \"width\": 0.04061564771269773, \"height\": 0.017543859649122806, \"page_width\": 2339, \"page_height\": 1653}'), Annotation(start=27, end=35, name='bounding box', value='{\"x_top_left\": 0.2099187687045746, \"y_top_left\": 0.4633998790078645, \"width\": 0.026079521162890123, \"height\": 0.017543859649122806, \"page_width\": 2339, \"page_height\": 1653}'), Annotation(start=0, end=11, name='confidence', value='0.74'), Annotation(start=12, end=17, name='confidence', value='0.93'), Annotation(start=18, end=27, name='confidence', value='0.89'), Annotation(start=28, end=35, name='confidence', value='0.72')]), LineWithMeta(text='имущественного права:', annotations=[Annotation(start=0, end=14, name='bounding box', value='{\"x_top_left\": 0.11415134672937152, \"y_top_left\": 0.4821536600120992, \"width\": 0.09234715690466011, \"height\": 0.0102843315184513, \"page_width\": 2339, \"page_height\": 1653}'), Annotation(start=14, end=21, name='bounding box', value='{\"x_top_left\": 0.18426678067550234, \"y_top_left\": 0.4767090139140956, \"width\": 0.02394185549380077, \"height\": 0.019358741681790685, \"page_width\": 2339, \"page_height\": 1653}'), Annotation(start=0, end=14, name='confidence', value='0.0'), Annotation(start=15, end=21, name='confidence', value='0.56')])] rowspan=1 colspan=1 invisible=True\n",
      "lines=[] rowspan=1 colspan=1 invisible=False\n",
      "lines=[LineWithMeta(text='1', annotations=[Annotation(start=0, end=1, name='bounding box', value='{\"x_top_left\": 0.1586147926464301, \"y_top_left\": 0.5408348457350273, \"width\": 0.002992731936725096, \"height\": 0.009074410163339383, \"page_width\": 2339, \"page_height\": 1653}'), Annotation(start=0, end=1, name='confidence', value='0.84')])] rowspan=1 colspan=1 invisible=False\n",
      "lines=[] rowspan=1 colspan=1 invisible=False\n",
      "lines=[LineWithMeta(text='Пампа светодмодная Е27 4000К ме менсе', annotations=[Annotation(start=0, end=5, name='bounding box', value='{\"x_top_left\": 0.0778110303548525, \"y_top_left\": 0.5565638233514821, \"width\": 0.0235143223599829, \"height\": 0.009679370840895343, \"page_width\": 2339, \"page_height\": 1653}'), Annotation(start=5, end=18, name='bounding box', value='{\"x_top_left\": 0.10431808465156049, \"y_top_left\": 0.55837870538415, \"width\": 0.05557930739632321, \"height\": 0.009074410163339383, \"page_width\": 2339, \"page_height\": 1653}'), Annotation(start=18, end=22, name='bounding box', value='{\"x_top_left\": 0.1633176571184267, \"y_top_left\": 0.5559588626739262, \"width\": 0.012825994014536126, \"height\": 0.016333938294010888, \"page_width\": 2339, \"page_height\": 1653}'), Annotation(start=22, end=28, name='bounding box', value='{\"x_top_left\": 0.18041898247114152, \"y_top_left\": 0.5559588626739262, \"width\": 0.03548525010688328, \"height\": 0.0102843315184513, \"page_width\": 2339, \"page_height\": 1653}'), Annotation(start=28, end=31, name='bounding box', value='{\"x_top_left\": 0.2069260367678495, \"y_top_left\": 0.5559588626739262, \"width\": 0.00897819581017529, \"height\": 0.016333938294010888, \"page_width\": 2339, \"page_height\": 1653}'), Annotation(start=31, end=37, name='bounding box', value='{\"x_top_left\": 0.21932449764856776, \"y_top_left\": 0.557773744706594, \"width\": 0.02479692176143651, \"height\": 0.008469449485783424, \"page_width\": 2339, \"page_height\": 1653}'), Annotation(start=0, end=5, name='confidence', value='0.6'), Annotation(start=6, end=18, name='confidence', value='0.88'), Annotation(start=19, end=22, name='confidence', value='0.89'), Annotation(start=23, end=28, name='confidence', value='0.9'), Annotation(start=29, end=31, name='confidence', value='0.91'), Annotation(start=32, end=37, name='confidence', value='0.62')]), LineWithMeta(text='1150 fiw', annotations=[Annotation(start=0, end=4, name='bounding box', value='{\"x_top_left\": 0.0778110303548525, \"y_top_left\": 0.5680580762250453, \"width\": 0.016246259085079092, \"height\": 0.017543859649122806, \"page_width\": 2339, \"page_height\": 1653}'), Annotation(start=4, end=8, name='bounding box', value='{\"x_top_left\": 0.09662248824283882, \"y_top_left\": 0.5680580762250453, \"width\": 0.011970927746900385, \"height\": 0.017543859649122806, \"page_width\": 2339, \"page_height\": 1653}'), Annotation(start=0, end=4, name='confidence', value='0.85'), Annotation(start=5, end=8, name='confidence', value='0.93')])] rowspan=1 colspan=1 invisible=False\n",
      "lines=[] rowspan=1 colspan=1 invisible=False\n",
      "lines=[LineWithMeta(text='всего к оппате', annotations=[Annotation(start=0, end=5, name='bounding box', value='{\"x_top_left\": 0.08165882855921335, \"y_top_left\": 0.5874168179068361, \"width\": 0.02479692176143651, \"height\": 0.008469449485783424, \"page_width\": 2339, \"page_height\": 1653}'), Annotation(start=5, end=7, name='bounding box', value='{\"x_top_left\": 0.1085934159897392, \"y_top_left\": 0.588626739261948, \"width\": 0.004275331338178709, \"height\": 0.007259528130671506, \"page_width\": 2339, \"page_height\": 1653}'), Annotation(start=7, end=14, name='bounding box', value='{\"x_top_left\": 0.11543394613082514, \"y_top_left\": 0.588021778584392, \"width\": 0.029927319367250963, \"height\": 0.007864488808227465, \"page_width\": 2339, \"page_height\": 1653}'), Annotation(start=0, end=5, name='confidence', value='0.89'), Annotation(start=6, end=7, name='confidence', value='0.92'), Annotation(start=8, end=14, name='confidence', value='0.88')])] rowspan=1 colspan=6 invisible=False\n"
     ]
    }
   ],
   "source": [
    "# for el in table[0]:\n",
    "#     print(type(el[1]))\n",
    "for el in table.cells:\n",
    "    print(el[1])\n",
    "\n",
    "\n",
    "# type(table.cells[1])"
   ]
  }
 ],
 "metadata": {
  "kernelspec": {
   "display_name": "venv",
   "language": "python",
   "name": "python3"
  },
  "language_info": {
   "codemirror_mode": {
    "name": "ipython",
    "version": 3
   },
   "file_extension": ".py",
   "mimetype": "text/x-python",
   "name": "python",
   "nbconvert_exporter": "python",
   "pygments_lexer": "ipython3",
   "version": "3.9.19"
  }
 },
 "nbformat": 4,
 "nbformat_minor": 2
}
